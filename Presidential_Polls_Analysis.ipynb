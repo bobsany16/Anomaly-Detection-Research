{
 "cells": [
  {
   "cell_type": "markdown",
   "metadata": {},
   "source": [
    "# Presidential Polls Analysis #\n",
    "\n",
    "- Bobby Nguyen, Jason Green"
   ]
  },
  {
   "cell_type": "code",
   "execution_count": 325,
   "metadata": {},
   "outputs": [],
   "source": [
    "import pandas as pd\n",
    "from sklearn import preprocessing\n",
    "import numpy as np\n",
    "import matplotlib.pyplot as plt \n",
    "from sklearn import model_selection\n",
    "from sklearn.metrics import r2_score\n",
    "from pylab import *\n",
    "from pyod.models.knn import KNN\n",
    "from pyod.utils.data import generate_data\n",
    "from pyod.utils.data import evaluate_print\n",
    "from pyod.utils.example import visualize\n",
    "from sklearn.utils import shuffle\n",
    "import random\n",
    "import warnings\n",
    "warnings.filterwarnings('ignore')"
   ]
  },
  {
   "cell_type": "code",
   "execution_count": 326,
   "metadata": {},
   "outputs": [],
   "source": [
    "#!{sys.executable} -m pip install pyod"
   ]
  },
  {
   "cell_type": "markdown",
   "metadata": {},
   "source": [
    "# I. Data Prep #\n",
    "\n",
    "### 1. Loading Data ###"
   ]
  },
  {
   "cell_type": "code",
   "execution_count": 327,
   "metadata": {
    "scrolled": true
   },
   "outputs": [
    {
     "data": {
      "text/html": [
       "<div>\n",
       "<style scoped>\n",
       "    .dataframe tbody tr th:only-of-type {\n",
       "        vertical-align: middle;\n",
       "    }\n",
       "\n",
       "    .dataframe tbody tr th {\n",
       "        vertical-align: top;\n",
       "    }\n",
       "\n",
       "    .dataframe thead th {\n",
       "        text-align: right;\n",
       "    }\n",
       "</style>\n",
       "<table border=\"1\" class=\"dataframe\">\n",
       "  <thead>\n",
       "    <tr style=\"text-align: right;\">\n",
       "      <th></th>\n",
       "      <th>cycle</th>\n",
       "      <th>branch</th>\n",
       "      <th>type</th>\n",
       "      <th>matchup</th>\n",
       "      <th>forecastdate</th>\n",
       "      <th>state</th>\n",
       "      <th>startdate</th>\n",
       "      <th>enddate</th>\n",
       "      <th>pollster</th>\n",
       "      <th>grade</th>\n",
       "      <th>...</th>\n",
       "      <th>adjpoll_clinton</th>\n",
       "      <th>adjpoll_trump</th>\n",
       "      <th>adjpoll_johnson</th>\n",
       "      <th>adjpoll_mcmullin</th>\n",
       "      <th>multiversions</th>\n",
       "      <th>url</th>\n",
       "      <th>poll_id</th>\n",
       "      <th>question_id</th>\n",
       "      <th>createddate</th>\n",
       "      <th>timestamp</th>\n",
       "    </tr>\n",
       "  </thead>\n",
       "  <tbody>\n",
       "    <tr>\n",
       "      <td>0</td>\n",
       "      <td>2016</td>\n",
       "      <td>President</td>\n",
       "      <td>polls-plus</td>\n",
       "      <td>Clinton vs. Trump vs. Johnson</td>\n",
       "      <td>11/1/16</td>\n",
       "      <td>U.S.</td>\n",
       "      <td>10/25/2016</td>\n",
       "      <td>10/31/2016</td>\n",
       "      <td>Google Consumer Surveys</td>\n",
       "      <td>B</td>\n",
       "      <td>...</td>\n",
       "      <td>42.64140</td>\n",
       "      <td>40.86509</td>\n",
       "      <td>5.675099</td>\n",
       "      <td>NaN</td>\n",
       "      <td>NaN</td>\n",
       "      <td>https://datastudio.google.com/u/0/#/org//repor...</td>\n",
       "      <td>47940</td>\n",
       "      <td>74999</td>\n",
       "      <td>11/1/16</td>\n",
       "      <td>15:09:38  1 Nov 2016</td>\n",
       "    </tr>\n",
       "    <tr>\n",
       "      <td>1</td>\n",
       "      <td>2016</td>\n",
       "      <td>President</td>\n",
       "      <td>polls-plus</td>\n",
       "      <td>Clinton vs. Trump vs. Johnson</td>\n",
       "      <td>11/1/16</td>\n",
       "      <td>U.S.</td>\n",
       "      <td>10/27/2016</td>\n",
       "      <td>10/30/2016</td>\n",
       "      <td>ABC News/Washington Post</td>\n",
       "      <td>A+</td>\n",
       "      <td>...</td>\n",
       "      <td>43.29659</td>\n",
       "      <td>44.72984</td>\n",
       "      <td>3.401513</td>\n",
       "      <td>NaN</td>\n",
       "      <td>NaN</td>\n",
       "      <td>http://www.langerresearch.com/wp-content/uploa...</td>\n",
       "      <td>47881</td>\n",
       "      <td>74936</td>\n",
       "      <td>11/1/16</td>\n",
       "      <td>15:09:38  1 Nov 2016</td>\n",
       "    </tr>\n",
       "    <tr>\n",
       "      <td>2</td>\n",
       "      <td>2016</td>\n",
       "      <td>President</td>\n",
       "      <td>polls-plus</td>\n",
       "      <td>Clinton vs. Trump vs. Johnson</td>\n",
       "      <td>11/1/16</td>\n",
       "      <td>Virginia</td>\n",
       "      <td>10/27/2016</td>\n",
       "      <td>10/30/2016</td>\n",
       "      <td>ABC News/Washington Post</td>\n",
       "      <td>A+</td>\n",
       "      <td>...</td>\n",
       "      <td>46.29779</td>\n",
       "      <td>40.72604</td>\n",
       "      <td>6.401513</td>\n",
       "      <td>NaN</td>\n",
       "      <td>NaN</td>\n",
       "      <td>https://www.washingtonpost.com/local/virginia-...</td>\n",
       "      <td>47880</td>\n",
       "      <td>74934</td>\n",
       "      <td>11/1/16</td>\n",
       "      <td>15:09:38  1 Nov 2016</td>\n",
       "    </tr>\n",
       "    <tr>\n",
       "      <td>3</td>\n",
       "      <td>2016</td>\n",
       "      <td>President</td>\n",
       "      <td>polls-plus</td>\n",
       "      <td>Clinton vs. Trump vs. Johnson</td>\n",
       "      <td>11/1/16</td>\n",
       "      <td>Florida</td>\n",
       "      <td>10/20/2016</td>\n",
       "      <td>10/24/2016</td>\n",
       "      <td>SurveyUSA</td>\n",
       "      <td>A</td>\n",
       "      <td>...</td>\n",
       "      <td>46.35931</td>\n",
       "      <td>45.30585</td>\n",
       "      <td>1.777730</td>\n",
       "      <td>NaN</td>\n",
       "      <td>NaN</td>\n",
       "      <td>http://www.baynews9.com/content/news/baynews9/...</td>\n",
       "      <td>47465</td>\n",
       "      <td>74252</td>\n",
       "      <td>10/25/16</td>\n",
       "      <td>15:09:38  1 Nov 2016</td>\n",
       "    </tr>\n",
       "    <tr>\n",
       "      <td>4</td>\n",
       "      <td>2016</td>\n",
       "      <td>President</td>\n",
       "      <td>polls-plus</td>\n",
       "      <td>Clinton vs. Trump vs. Johnson</td>\n",
       "      <td>11/1/16</td>\n",
       "      <td>U.S.</td>\n",
       "      <td>10/20/2016</td>\n",
       "      <td>10/25/2016</td>\n",
       "      <td>Pew Research Center</td>\n",
       "      <td>B+</td>\n",
       "      <td>...</td>\n",
       "      <td>45.32744</td>\n",
       "      <td>42.20888</td>\n",
       "      <td>3.618320</td>\n",
       "      <td>NaN</td>\n",
       "      <td>NaN</td>\n",
       "      <td>http://www.people-press.org/2016/10/27/as-elec...</td>\n",
       "      <td>47616</td>\n",
       "      <td>74519</td>\n",
       "      <td>10/27/16</td>\n",
       "      <td>15:09:38  1 Nov 2016</td>\n",
       "    </tr>\n",
       "  </tbody>\n",
       "</table>\n",
       "<p>5 rows × 27 columns</p>\n",
       "</div>"
      ],
      "text/plain": [
       "   cycle     branch        type                        matchup forecastdate  \\\n",
       "0   2016  President  polls-plus  Clinton vs. Trump vs. Johnson      11/1/16   \n",
       "1   2016  President  polls-plus  Clinton vs. Trump vs. Johnson      11/1/16   \n",
       "2   2016  President  polls-plus  Clinton vs. Trump vs. Johnson      11/1/16   \n",
       "3   2016  President  polls-plus  Clinton vs. Trump vs. Johnson      11/1/16   \n",
       "4   2016  President  polls-plus  Clinton vs. Trump vs. Johnson      11/1/16   \n",
       "\n",
       "      state   startdate     enddate                  pollster grade  ...  \\\n",
       "0      U.S.  10/25/2016  10/31/2016   Google Consumer Surveys     B  ...   \n",
       "1      U.S.  10/27/2016  10/30/2016  ABC News/Washington Post    A+  ...   \n",
       "2  Virginia  10/27/2016  10/30/2016  ABC News/Washington Post    A+  ...   \n",
       "3   Florida  10/20/2016  10/24/2016                 SurveyUSA     A  ...   \n",
       "4      U.S.  10/20/2016  10/25/2016       Pew Research Center    B+  ...   \n",
       "\n",
       "   adjpoll_clinton adjpoll_trump  adjpoll_johnson  adjpoll_mcmullin  \\\n",
       "0         42.64140      40.86509         5.675099               NaN   \n",
       "1         43.29659      44.72984         3.401513               NaN   \n",
       "2         46.29779      40.72604         6.401513               NaN   \n",
       "3         46.35931      45.30585         1.777730               NaN   \n",
       "4         45.32744      42.20888         3.618320               NaN   \n",
       "\n",
       "   multiversions                                                url  poll_id  \\\n",
       "0            NaN  https://datastudio.google.com/u/0/#/org//repor...    47940   \n",
       "1            NaN  http://www.langerresearch.com/wp-content/uploa...    47881   \n",
       "2            NaN  https://www.washingtonpost.com/local/virginia-...    47880   \n",
       "3            NaN  http://www.baynews9.com/content/news/baynews9/...    47465   \n",
       "4            NaN  http://www.people-press.org/2016/10/27/as-elec...    47616   \n",
       "\n",
       "   question_id  createddate             timestamp  \n",
       "0        74999      11/1/16  15:09:38  1 Nov 2016  \n",
       "1        74936      11/1/16  15:09:38  1 Nov 2016  \n",
       "2        74934      11/1/16  15:09:38  1 Nov 2016  \n",
       "3        74252     10/25/16  15:09:38  1 Nov 2016  \n",
       "4        74519     10/27/16  15:09:38  1 Nov 2016  \n",
       "\n",
       "[5 rows x 27 columns]"
      ]
     },
     "execution_count": 327,
     "metadata": {},
     "output_type": "execute_result"
    }
   ],
   "source": [
    "dataset = pd.read_csv('presidential_polls.csv')\n",
    "dataset.columns\n",
    "dataset.head(5)"
   ]
  },
  {
   "cell_type": "markdown",
   "metadata": {},
   "source": [
    "### 2. Dropping unnecessary columns ###"
   ]
  },
  {
   "cell_type": "code",
   "execution_count": 328,
   "metadata": {
    "scrolled": false
   },
   "outputs": [],
   "source": [
    "df = dataset.drop(['cycle', 'branch', 'type', 'matchup', 'forecastdate', 'startdate', 'enddate', 'pollster', 'samplesize', 'population', 'poll_wt', 'rawpoll_clinton', 'rawpoll_trump', 'rawpoll_johnson', 'rawpoll_mcmullin', 'adjpoll_johnson', 'adjpoll_johnson', 'adjpoll_mcmullin', 'multiversions', 'url', 'poll_id', 'question_id', 'createddate', 'timestamp'], axis=1)"
   ]
  },
  {
   "cell_type": "markdown",
   "metadata": {},
   "source": [
    "### 3. Combining Nebraska & Maine's Congressional Districts ###\n",
    "\n",
    "Since the dataset also includes Nebraska's 3 congressional districts and Maine's 2 congressional districts, it is important to also include these 5 extras columns `state` into Nebraska and Maine themselves\n",
    "\n",
    "By creating a method `combineCD(state, n)`, it will be easier to convert the congressional districts into the state overall. "
   ]
  },
  {
   "cell_type": "code",
   "execution_count": 329,
   "metadata": {},
   "outputs": [],
   "source": [
    "def combineCD(state, n): \n",
    "    for i in range(1, n): \n",
    "        my_state = state + \" CD-\" + str(i)\n",
    "        df.loc[df['state'] == my_state, 'state'] = state\n",
    "    return df[df['state']==state].shape"
   ]
  },
  {
   "cell_type": "markdown",
   "metadata": {},
   "source": [
    "Combining Nebraska's Congressional Districts"
   ]
  },
  {
   "cell_type": "code",
   "execution_count": 330,
   "metadata": {
    "scrolled": true
   },
   "outputs": [
    {
     "data": {
      "text/plain": [
       "(204, 4)"
      ]
     },
     "execution_count": 330,
     "metadata": {},
     "output_type": "execute_result"
    }
   ],
   "source": [
    "combineCD(\"Maine\", 3)"
   ]
  },
  {
   "cell_type": "markdown",
   "metadata": {},
   "source": [
    "Combining Maine's Congressional Districts"
   ]
  },
  {
   "cell_type": "code",
   "execution_count": 331,
   "metadata": {},
   "outputs": [
    {
     "data": {
      "text/plain": [
       "(105, 4)"
      ]
     },
     "execution_count": 331,
     "metadata": {},
     "output_type": "execute_result"
    }
   ],
   "source": [
    "combineCD(\"Nebraska\", 4)"
   ]
  },
  {
   "cell_type": "markdown",
   "metadata": {},
   "source": [
    "### 4. New Dataset for `state == \"U.S.\"` ###\n",
    "\n",
    "This dataset also contains the adjusted poll of the US overall for two candidates Clinton and Trump so it is necessary to create a sub-dataset with the state equals \"U.S.\"\n"
   ]
  },
  {
   "cell_type": "code",
   "execution_count": 332,
   "metadata": {},
   "outputs": [
    {
     "data": {
      "text/plain": [
       "(3105, 4)"
      ]
     },
     "execution_count": 332,
     "metadata": {},
     "output_type": "execute_result"
    }
   ],
   "source": [
    "df_US = df[df['state'] == \"U.S.\"]\n",
    "df_US.shape"
   ]
  },
  {
   "cell_type": "markdown",
   "metadata": {},
   "source": [
    "Results show that there are 3105 records for overall US prediction of the presidential election. This leaves only 7131 in the main dataset to be assessed. \n",
    "\n",
    "To completely reflect this change, a `drop()` must be called to drop all rows with `state` = 'U.S.'"
   ]
  },
  {
   "cell_type": "code",
   "execution_count": 333,
   "metadata": {},
   "outputs": [
    {
     "data": {
      "text/plain": [
       "(7131, 4)"
      ]
     },
     "execution_count": 333,
     "metadata": {},
     "output_type": "execute_result"
    }
   ],
   "source": [
    "indexNames = df[df['state'] == \"U.S.\"].index\n",
    "df.drop(indexNames , inplace=True)\n",
    "df.shape"
   ]
  },
  {
   "cell_type": "markdown",
   "metadata": {},
   "source": [
    "### 5. Shuffling Data ###"
   ]
  },
  {
   "cell_type": "code",
   "execution_count": 334,
   "metadata": {
    "scrolled": true
   },
   "outputs": [
    {
     "data": {
      "text/html": [
       "<div>\n",
       "<style scoped>\n",
       "    .dataframe tbody tr th:only-of-type {\n",
       "        vertical-align: middle;\n",
       "    }\n",
       "\n",
       "    .dataframe tbody tr th {\n",
       "        vertical-align: top;\n",
       "    }\n",
       "\n",
       "    .dataframe thead th {\n",
       "        text-align: right;\n",
       "    }\n",
       "</style>\n",
       "<table border=\"1\" class=\"dataframe\">\n",
       "  <thead>\n",
       "    <tr style=\"text-align: right;\">\n",
       "      <th></th>\n",
       "      <th>state</th>\n",
       "      <th>grade</th>\n",
       "      <th>adjpoll_clinton</th>\n",
       "      <th>adjpoll_trump</th>\n",
       "    </tr>\n",
       "  </thead>\n",
       "  <tbody>\n",
       "    <tr>\n",
       "      <td>265</td>\n",
       "      <td>Vermont</td>\n",
       "      <td>B+</td>\n",
       "      <td>47.17089</td>\n",
       "      <td>21.70191</td>\n",
       "    </tr>\n",
       "    <tr>\n",
       "      <td>1774</td>\n",
       "      <td>Oregon</td>\n",
       "      <td>B</td>\n",
       "      <td>54.30991</td>\n",
       "      <td>34.55259</td>\n",
       "    </tr>\n",
       "    <tr>\n",
       "      <td>2614</td>\n",
       "      <td>Wisconsin</td>\n",
       "      <td>A-</td>\n",
       "      <td>36.95758</td>\n",
       "      <td>38.10036</td>\n",
       "    </tr>\n",
       "    <tr>\n",
       "      <td>9603</td>\n",
       "      <td>Florida</td>\n",
       "      <td>B</td>\n",
       "      <td>39.78279</td>\n",
       "      <td>49.43355</td>\n",
       "    </tr>\n",
       "    <tr>\n",
       "      <td>1395</td>\n",
       "      <td>Vermont</td>\n",
       "      <td>B-</td>\n",
       "      <td>44.53185</td>\n",
       "      <td>29.11007</td>\n",
       "    </tr>\n",
       "    <tr>\n",
       "      <td>...</td>\n",
       "      <td>...</td>\n",
       "      <td>...</td>\n",
       "      <td>...</td>\n",
       "      <td>...</td>\n",
       "    </tr>\n",
       "    <tr>\n",
       "      <td>5052</td>\n",
       "      <td>Texas</td>\n",
       "      <td>B</td>\n",
       "      <td>34.74260</td>\n",
       "      <td>49.69068</td>\n",
       "    </tr>\n",
       "    <tr>\n",
       "      <td>7321</td>\n",
       "      <td>North Carolina</td>\n",
       "      <td>B+</td>\n",
       "      <td>44.59116</td>\n",
       "      <td>43.47900</td>\n",
       "    </tr>\n",
       "    <tr>\n",
       "      <td>7366</td>\n",
       "      <td>South Dakota</td>\n",
       "      <td>B</td>\n",
       "      <td>24.51928</td>\n",
       "      <td>49.08972</td>\n",
       "    </tr>\n",
       "    <tr>\n",
       "      <td>7552</td>\n",
       "      <td>Indiana</td>\n",
       "      <td>B</td>\n",
       "      <td>38.25372</td>\n",
       "      <td>47.05673</td>\n",
       "    </tr>\n",
       "    <tr>\n",
       "      <td>1001</td>\n",
       "      <td>Arizona</td>\n",
       "      <td>C+</td>\n",
       "      <td>41.12016</td>\n",
       "      <td>42.28458</td>\n",
       "    </tr>\n",
       "  </tbody>\n",
       "</table>\n",
       "<p>7131 rows × 4 columns</p>\n",
       "</div>"
      ],
      "text/plain": [
       "               state grade  adjpoll_clinton  adjpoll_trump\n",
       "265          Vermont    B+         47.17089       21.70191\n",
       "1774          Oregon     B         54.30991       34.55259\n",
       "2614       Wisconsin    A-         36.95758       38.10036\n",
       "9603         Florida     B         39.78279       49.43355\n",
       "1395         Vermont    B-         44.53185       29.11007\n",
       "...              ...   ...              ...            ...\n",
       "5052           Texas     B         34.74260       49.69068\n",
       "7321  North Carolina    B+         44.59116       43.47900\n",
       "7366    South Dakota     B         24.51928       49.08972\n",
       "7552         Indiana     B         38.25372       47.05673\n",
       "1001         Arizona    C+         41.12016       42.28458\n",
       "\n",
       "[7131 rows x 4 columns]"
      ]
     },
     "execution_count": 334,
     "metadata": {},
     "output_type": "execute_result"
    }
   ],
   "source": [
    "#df['ratio'] = df['adjpoll_clinton'] / df['adjpoll_trump']\n",
    "#grade_A = df[df['grade'] == 'A']\n",
    "#grade_A\n",
    "df2 = shuffle(df, random_state=42)\n",
    "df2"
   ]
  },
  {
   "cell_type": "markdown",
   "metadata": {},
   "source": [
    "### 6. Visualisations ###\n",
    "\n",
    "First, let's assess any outliers through box plot: "
   ]
  },
  {
   "cell_type": "code",
   "execution_count": 335,
   "metadata": {
    "scrolled": true
   },
   "outputs": [
    {
     "data": {
      "image/png": "[encoded data removed]",
      "text/plain": [
       "<Figure size 432x288 with 1 Axes>"
      ]
     },
     "metadata": {
      "needs_background": "light"
     },
     "output_type": "display_data"
    }
   ],
   "source": [
    "df2['adjpoll_clinton'].plot(kind='hist')\n",
    "plt.show()"
   ]
  },
  {
   "cell_type": "code",
   "execution_count": 336,
   "metadata": {},
   "outputs": [
    {
     "data": {
      "image/png": "[encoded data removed]",
      "text/plain": [
       "<Figure size 432x288 with 1 Axes>"
      ]
     },
     "metadata": {
      "needs_background": "light"
     },
     "output_type": "display_data"
    }
   ],
   "source": [
    "df2['adjpoll_trump'].plot(kind='hist')\n",
    "plt.show()"
   ]
  },
  {
   "cell_type": "code",
   "execution_count": 337,
   "metadata": {},
   "outputs": [
    {
     "data": {
      "text/plain": [
       "<matplotlib.axes._subplots.AxesSubplot at 0x1a29f77c10>"
      ]
     },
     "execution_count": 337,
     "metadata": {},
     "output_type": "execute_result"
    },
    {
     "data": {
      "image/png": "[encoded data removed]",
      "text/plain": [
       "<Figure size 432x288 with 1 Axes>"
      ]
     },
     "metadata": {
      "needs_background": "light"
     },
     "output_type": "display_data"
    }
   ],
   "source": [
    "df_US.plot(kind='box')"
   ]
  },
  {
   "cell_type": "markdown",
   "metadata": {},
   "source": [
    "### 7. Transforming Categorial Data -> Numerical ###"
   ]
  },
  {
   "cell_type": "code",
   "execution_count": 338,
   "metadata": {},
   "outputs": [],
   "source": [
    "le1 = preprocessing.LabelEncoder()\n",
    "\n",
    "le2 = preprocessing.LabelEncoder()\n"
   ]
  },
  {
   "cell_type": "code",
   "execution_count": 339,
   "metadata": {},
   "outputs": [],
   "source": [
    "df2['state'] = le2.fit_transform(list(df2['state']))\n",
    "df2['grade'] = le1.fit_transform(list(df2['grade']))"
   ]
  },
  {
   "cell_type": "code",
   "execution_count": 340,
   "metadata": {
    "scrolled": false
   },
   "outputs": [],
   "source": [
    "#df['winner'] = [1 if df['adjpoll_clinton'][i] > df['adjpoll_trump'][i] else 0 for i in range(len(df['adjpoll_clinton']))]\n",
    "features = df2.columns"
   ]
  },
  {
   "cell_type": "markdown",
   "metadata": {},
   "source": [
    "### 8. Splitting Dataset ###\n",
    "\n",
    "Since dataset doesn't have label, splitting manually is best for this scenario"
   ]
  },
  {
   "cell_type": "code",
   "execution_count": 341,
   "metadata": {},
   "outputs": [],
   "source": [
    "# Training Set\n",
    "X_train = df2[features][:4992]\n",
    "\n",
    "# Validation Set\n",
    "X_valid = df2[features][4993:len(df2)]"
   ]
  },
  {
   "cell_type": "markdown",
   "metadata": {},
   "source": [
    "# II. Isolation Forest #\n",
    "\n",
    "Data is prepped and split and ready to be fit into Isolation Forest from sklearn\n",
    "\n",
    "### 1. Fitting the Isolation Forest (IF) ###"
   ]
  },
  {
   "cell_type": "code",
   "execution_count": 342,
   "metadata": {},
   "outputs": [],
   "source": [
    "from sklearn.ensemble import IsolationForest"
   ]
  },
  {
   "cell_type": "code",
   "execution_count": 343,
   "metadata": {},
   "outputs": [
    {
     "data": {
      "text/plain": [
       "IsolationForest(behaviour='new', bootstrap=False, contamination=0.1,\n",
       "                max_features=1.0, max_samples='auto', n_estimators=100,\n",
       "                n_jobs=None, random_state=42, verbose=0, warm_start=False)"
      ]
     },
     "execution_count": 343,
     "metadata": {},
     "output_type": "execute_result"
    }
   ],
   "source": [
    "clf = IsolationForest(n_estimators=100, max_samples='auto', behaviour ='new', contamination=0.1, random_state=42)\n",
    "clf.fit(X_train)"
   ]
  },
  {
   "cell_type": "markdown",
   "metadata": {},
   "source": [
    "### 2.  Predicting the anomalies for both training set and validation set####\n",
    "\n",
    "Both the training and validation datasets now have 2 other columns: \n",
    "  * Anomaly: prediction of the model: 1 for normal data point and -1 for possible outliers\n",
    "  * Scores: anomaly scores calculated by the `decision function`"
   ]
  },
  {
   "cell_type": "code",
   "execution_count": 344,
   "metadata": {},
   "outputs": [],
   "source": [
    "train_scores = clf.decision_function(X_train)\n",
    "val_scores = clf.decision_function(X_valid)\n",
    "\n",
    "X_valid['anomaly'] = clf.predict(X_valid)\n",
    "X_valid['scores'] = val_scores\n",
    "\n",
    "X_train['anomaly']=clf.predict(X_train)\n",
    "X_train['scores']=train_scores\n"
   ]
  },
  {
   "cell_type": "markdown",
   "metadata": {},
   "source": [
    "Getting the states label back: "
   ]
  },
  {
   "cell_type": "code",
   "execution_count": 345,
   "metadata": {},
   "outputs": [],
   "source": [
    "X_valid['state'] = list(le2.inverse_transform(X_valid['state']))\n"
   ]
  },
  {
   "cell_type": "code",
   "execution_count": 346,
   "metadata": {},
   "outputs": [],
   "source": [
    "sum_correct = X_valid[X_valid['anomaly']==1].groupby('state').sum()\n",
    "sum_incorrect = X_valid[X_valid['anomaly']==-1].groupby('state').sum()\n",
    "sum_incorrect['anomaly'] = [i * -1 for i in sum_incorrect['anomaly']]"
   ]
  },
  {
   "cell_type": "code",
   "execution_count": 347,
   "metadata": {},
   "outputs": [
    {
     "data": {
      "text/html": [
       "<div>\n",
       "<style scoped>\n",
       "    .dataframe tbody tr th:only-of-type {\n",
       "        vertical-align: middle;\n",
       "    }\n",
       "\n",
       "    .dataframe tbody tr th {\n",
       "        vertical-align: top;\n",
       "    }\n",
       "\n",
       "    .dataframe thead th {\n",
       "        text-align: right;\n",
       "    }\n",
       "</style>\n",
       "<table border=\"1\" class=\"dataframe\">\n",
       "  <thead>\n",
       "    <tr style=\"text-align: right;\">\n",
       "      <th></th>\n",
       "      <th>grade</th>\n",
       "      <th>adjpoll_clinton</th>\n",
       "      <th>adjpoll_trump</th>\n",
       "      <th>anomaly</th>\n",
       "      <th>scores</th>\n",
       "    </tr>\n",
       "    <tr>\n",
       "      <th>state</th>\n",
       "      <th></th>\n",
       "      <th></th>\n",
       "      <th></th>\n",
       "      <th></th>\n",
       "      <th></th>\n",
       "    </tr>\n",
       "  </thead>\n",
       "  <tbody>\n",
       "    <tr>\n",
       "      <td>Alabama</td>\n",
       "      <td>86</td>\n",
       "      <td>419.58461</td>\n",
       "      <td>840.66963</td>\n",
       "      <td>14</td>\n",
       "      <td>-0.721255</td>\n",
       "    </tr>\n",
       "  </tbody>\n",
       "</table>\n",
       "</div>"
      ],
      "text/plain": [
       "         grade  adjpoll_clinton  adjpoll_trump  anomaly    scores\n",
       "state                                                            \n",
       "Alabama     86        419.58461      840.66963       14 -0.721255"
      ]
     },
     "execution_count": 347,
     "metadata": {},
     "output_type": "execute_result"
    }
   ],
   "source": [
    "sum_incorrect.head(1)"
   ]
  },
  {
   "cell_type": "markdown",
   "metadata": {},
   "source": [
    "#### Since some states might not have any anomalies, finding these states is crucial in the overall model ####\n",
    "\n",
    "Based on the results, 21 states were predicted to not have any anomalies in the validation dataset"
   ]
  },
  {
   "cell_type": "code",
   "execution_count": 348,
   "metadata": {
    "scrolled": false
   },
   "outputs": [
    {
     "data": {
      "text/plain": [
       "['Florida',\n",
       " 'Rhode Island',\n",
       " 'Texas',\n",
       " 'New Mexico',\n",
       " 'Minnesota',\n",
       " 'Oregon',\n",
       " 'Ohio',\n",
       " 'Pennsylvania',\n",
       " 'Missouri',\n",
       " 'Iowa',\n",
       " 'Nevada',\n",
       " 'North Carolina',\n",
       " 'Louisiana',\n",
       " 'Maine',\n",
       " 'New Jersey',\n",
       " 'Georgia',\n",
       " 'Indiana',\n",
       " 'Colorado',\n",
       " 'Connecticut',\n",
       " 'Michigan',\n",
       " 'Kansas']"
      ]
     },
     "execution_count": 348,
     "metadata": {},
     "output_type": "execute_result"
    }
   ],
   "source": [
    "res = []\n",
    "for i in my_states:\n",
    "    \n",
    "    if i not in list(sum_incorrect.index):\n",
    "        res.append(i)\n",
    "res"
   ]
  },
  {
   "cell_type": "markdown",
   "metadata": {},
   "source": [
    "#### Now, adding the 0 values for anomaly and 1 for scores to show overall  `sum_incorrect` subset ####\n",
    "\n",
    "The goal here is to see the total amount of anomalies in the validation dataset according to each states. Thus, values for `grade`, `adjpoll_clinton`, `adjpoll_trump` do not matter as the purpose is to demonstrate these on the US map. "
   ]
  },
  {
   "cell_type": "code",
   "execution_count": 350,
   "metadata": {},
   "outputs": [],
   "source": [
    "for i in res: \n",
    "    sum_incorrect.loc[i] = [0, 0, 0, 0, 1]\n",
    "#index_to_add = pd.Index([i for i in res])\n",
    "#sum_incorrect = sum_incorrect.append(index_to_add)"
   ]
  },
  {
   "cell_type": "code",
   "execution_count": 351,
   "metadata": {},
   "outputs": [
    {
     "data": {
      "text/html": [
       "<div>\n",
       "<style scoped>\n",
       "    .dataframe tbody tr th:only-of-type {\n",
       "        vertical-align: middle;\n",
       "    }\n",
       "\n",
       "    .dataframe tbody tr th {\n",
       "        vertical-align: top;\n",
       "    }\n",
       "\n",
       "    .dataframe thead th {\n",
       "        text-align: right;\n",
       "    }\n",
       "</style>\n",
       "<table border=\"1\" class=\"dataframe\">\n",
       "  <thead>\n",
       "    <tr style=\"text-align: right;\">\n",
       "      <th></th>\n",
       "      <th>grade</th>\n",
       "      <th>adjpoll_clinton</th>\n",
       "      <th>adjpoll_trump</th>\n",
       "      <th>anomaly</th>\n",
       "      <th>scores</th>\n",
       "    </tr>\n",
       "    <tr>\n",
       "      <th>state</th>\n",
       "      <th></th>\n",
       "      <th></th>\n",
       "      <th></th>\n",
       "      <th></th>\n",
       "      <th></th>\n",
       "    </tr>\n",
       "  </thead>\n",
       "  <tbody>\n",
       "    <tr>\n",
       "      <td>Indiana</td>\n",
       "      <td>0</td>\n",
       "      <td>0.0</td>\n",
       "      <td>0.0</td>\n",
       "      <td>0</td>\n",
       "      <td>1.0</td>\n",
       "    </tr>\n",
       "    <tr>\n",
       "      <td>Colorado</td>\n",
       "      <td>0</td>\n",
       "      <td>0.0</td>\n",
       "      <td>0.0</td>\n",
       "      <td>0</td>\n",
       "      <td>1.0</td>\n",
       "    </tr>\n",
       "    <tr>\n",
       "      <td>Connecticut</td>\n",
       "      <td>0</td>\n",
       "      <td>0.0</td>\n",
       "      <td>0.0</td>\n",
       "      <td>0</td>\n",
       "      <td>1.0</td>\n",
       "    </tr>\n",
       "    <tr>\n",
       "      <td>Michigan</td>\n",
       "      <td>0</td>\n",
       "      <td>0.0</td>\n",
       "      <td>0.0</td>\n",
       "      <td>0</td>\n",
       "      <td>1.0</td>\n",
       "    </tr>\n",
       "    <tr>\n",
       "      <td>Kansas</td>\n",
       "      <td>0</td>\n",
       "      <td>0.0</td>\n",
       "      <td>0.0</td>\n",
       "      <td>0</td>\n",
       "      <td>1.0</td>\n",
       "    </tr>\n",
       "  </tbody>\n",
       "</table>\n",
       "</div>"
      ],
      "text/plain": [
       "             grade  adjpoll_clinton  adjpoll_trump  anomaly  scores\n",
       "state                                                              \n",
       "Indiana          0              0.0            0.0        0     1.0\n",
       "Colorado         0              0.0            0.0        0     1.0\n",
       "Connecticut      0              0.0            0.0        0     1.0\n",
       "Michigan         0              0.0            0.0        0     1.0\n",
       "Kansas           0              0.0            0.0        0     1.0"
      ]
     },
     "execution_count": 351,
     "metadata": {},
     "output_type": "execute_result"
    }
   ],
   "source": [
    "sum_incorrect.tail()"
   ]
  },
  {
   "cell_type": "markdown",
   "metadata": {},
   "source": [
    "# III. Mapping data to US Map #\n",
    "\n",
    "With the help from [this tutorial](https://towardsdatascience.com/mapping-geograph-data-in-python-610a963d2d7f), amount of inliners - amount of normal data points in the validation dataset - can be mapped to the US map overall.\n",
    "\n",
    "Shapefile is the original US map taken from [here](https://www.census.gov/geographies/mapping-files/time-series/geo/carto-boundary-file.html)"
   ]
  },
  {
   "cell_type": "code",
   "execution_count": 352,
   "metadata": {},
   "outputs": [],
   "source": [
    "from pylab import *\n",
    "import shapefile as shp\n",
    "import matplotlib.pyplot as plt\n",
    "import seaborn as sns\n",
    "\n",
    "sns.set(style= \"whitegrid\", palette=\"pastel\", color_codes=True)\n",
    "sns.mpl.rc(\"figure\", figsize=(10,6))\n",
    "%matplotlib inline\n",
    "\n",
    "shp_path = \"./cb_2018_us_state_5m/cb_2018_us_state_5m.shp\"\n",
    "sf = shp.Reader(shp_path)\n",
    "len(sf.shapes())\n",
    "\n",
    "def read_shapefile(sf):\n",
    "    \"\"\"\n",
    "    Read a shapefile into a Pandas dataframe with a 'coords' \n",
    "    column holding the geometry information. This uses the pyshp\n",
    "    package\n",
    "    \"\"\"\n",
    "    fields = [x[0] for x in sf.fields][1:]\n",
    "    records = sf.records()\n",
    "    shps = [s.points for s in sf.shapes()]\n",
    "    df = pd.DataFrame(columns=fields, data=records)\n",
    "    df = df.assign(coords=shps)\n",
    "    return df"
   ]
  },
  {
   "cell_type": "code",
   "execution_count": 353,
   "metadata": {},
   "outputs": [
    {
     "data": {
      "text/plain": [
       "18"
      ]
     },
     "execution_count": 353,
     "metadata": {},
     "output_type": "execute_result"
    }
   ],
   "source": [
    "df2 = read_shapefile(sf)\n",
    "df2.head(56)\n",
    "\n",
    "\n",
    "df2[df2.NAME=='New York'].index.get_values()[0]"
   ]
  },
  {
   "cell_type": "code",
   "execution_count": 354,
   "metadata": {},
   "outputs": [],
   "source": [
    "def plot_shape(id, s=None):\n",
    "    \"\"\" PLOTS A SINGLE SHAPE \"\"\"\n",
    "    plt.figure()\n",
    "    ax = plt.axes()\n",
    "    ax.set_aspect('equal')\n",
    "    shape_ex = sf.shape(id)\n",
    "    x_lon = np.zeros((len(shape_ex.points),1))\n",
    "    y_lat = np.zeros((len(shape_ex.points),1))\n",
    "    for ip in range(len(shape_ex.points)):\n",
    "        x_lon[ip] = shape_ex.points[ip][0]\n",
    "        y_lat[ip] = shape_ex.points[ip][1]\n",
    "    plt.plot(x_lon,y_lat) \n",
    "    x0 = np.mean(x_lon)\n",
    "    y0 = np.mean(y_lat)\n",
    "    plt.text(x0, y0, s, fontsize=10)\n",
    "    # use bbox (bounding box) to set plot limits\n",
    "    plt.xlim(shape_ex.bbox[0],shape_ex.bbox[2])\n",
    "    return x0, y0"
   ]
  },
  {
   "cell_type": "code",
   "execution_count": 355,
   "metadata": {},
   "outputs": [],
   "source": [
    "def calc_color(data, color=None):\n",
    "        if color   == 1: \n",
    "            color_sq =  ['#dadaebFF','#bcbddcF0','#9e9ac8F0',\n",
    "                        '#807dbaF0','#6a51a3F0','#54278fF0']\n",
    "            colors = 'Purples'\n",
    "        elif color == 2: \n",
    "            color_sq = ['#c7e9b4','#7fcdbb','#41b6c4',\n",
    "                        '#1d91c0','#225ea8','#253494'] \n",
    "            colors = 'YlGnBu'\n",
    "        elif color == 3: \n",
    "            color_sq = ['#f7f7f7','#d9d9d9','#bdbdbd',\n",
    "                        '#969696','#636363','#252525'] \n",
    "            colors = 'Greys'\n",
    "        elif color == 9: \n",
    "            color_sq = ['#ff0000','#ff0000','#ff0000',\n",
    "                        '#ff0000','#ff0000','#ff0000']\n",
    "        else:           \n",
    "            color_sq = ['#ffffd4','#fee391','#fec44f',\n",
    "                        '#fe9929','#d95f0e','#993404']\n",
    "            colors = 'YlOrBr'\n",
    "        new_data, bins = pd.qcut(data, 6, retbins=True, \n",
    "        labels=list(range(6)))\n",
    "        color_ton = []\n",
    "        for val in new_data:\n",
    "            color_ton.append(color_sq[val]) \n",
    "        if color != 9:\n",
    "            colors = sns.color_palette(colors, n_colors=6)\n",
    "            sns.palplot(colors, 0.6);\n",
    "            for i in range(6):\n",
    "                print (\"\\n\"+str(i+1)+': '+str(int(bins[i]))+\n",
    "                       \" => \"+str(int(bins[i+1])-1), end =\" \")\n",
    "            print(\"\\n\\n   1   2   3   4   5   6\")    \n",
    "        return color_ton, bins;"
   ]
  },
  {
   "cell_type": "code",
   "execution_count": 356,
   "metadata": {},
   "outputs": [],
   "source": [
    "def plot_comunas_data(sf, title, comunas, data=None, \n",
    "                      color=None, print_id=False):\n",
    "    '''\n",
    "    Plot map with selected comunes, using specific color\n",
    "    '''\n",
    "    \n",
    "    color_ton, bins = calc_color(data, color)\n",
    "    df = read_shapefile(sf)\n",
    "    comuna_id = []\n",
    "    for i in comunas:\n",
    "        #i = i.upper()\n",
    "        comuna_id.append(df[df.NAME == i].index.get_values()[0])\n",
    "    plot_map_fill_multiples_ids_tone(sf, title, comuna_id, \n",
    "                                     print_id, \n",
    "                                     color_ton, \n",
    "                                     bins, \n",
    "                                     x_lim = x_lim, \n",
    "                                     y_lim = y_lim, \n",
    "                                     figsize = (15,9));"
   ]
  },
  {
   "cell_type": "code",
   "execution_count": 357,
   "metadata": {},
   "outputs": [],
   "source": [
    "def plot_map_fill_multiples_ids_tone(sf, title, comuna,  \n",
    "                                     print_id, color_ton, \n",
    "                                     bins, \n",
    "                                     x_lim = None, \n",
    "                                     y_lim = None, \n",
    "                                     figsize = (15,9)):\n",
    "    '''\n",
    "    Plot map with lim coordinates\n",
    "    '''\n",
    "        \n",
    "    plt.figure(figsize = figsize)\n",
    "    fig, ax = plt.subplots(figsize = figsize)\n",
    "    fig.suptitle(title, fontsize=16)\n",
    "    for shape in sf.shapeRecords():\n",
    "        x = [i[0] for i in shape.shape.points[:]]\n",
    "        y = [i[1] for i in shape.shape.points[:]]\n",
    "        ax.plot(x, y, 'k')\n",
    "    \n",
    "        for id in comuna:\n",
    "            shape_ex = sf.shape(id)\n",
    "            x_lon = np.zeros((len(shape_ex.points),1))\n",
    "            y_lat = np.zeros((len(shape_ex.points),1))\n",
    "            for ip in range(len(shape_ex.points)):\n",
    "                x_lon[ip] = shape_ex.points[ip][0]\n",
    "                y_lat[ip] = shape_ex.points[ip][1]\n",
    "            ax.fill(x_lon,y_lat, color_ton[comuna.index(id)])\n",
    "        if print_id != False:\n",
    "            x0 = np.mean(x_lon)\n",
    "            y0 = np.mean(y_lat)\n",
    "            plt.text(x0, y0, id, fontsize=10)\n",
    "    if (x_lim != None) & (y_lim != None):     \n",
    "        plt.xlim(x_lim)\n",
    "        plt.ylim(y_lim)"
   ]
  },
  {
   "cell_type": "markdown",
   "metadata": {},
   "source": [
    "### Getting correct_list and incorrect_list based on previous `sum_correct` and `sum_incorrect` DataFrames ###"
   ]
  },
  {
   "cell_type": "code",
   "execution_count": 358,
   "metadata": {},
   "outputs": [],
   "source": [
    "correct_list = list(sum_correct['anomaly'])\n",
    "incorrect_list = list(sum_incorrect['anomaly'])"
   ]
  },
  {
   "cell_type": "markdown",
   "metadata": {},
   "source": [
    "When calling `plot_comunas_data()` fuction, the map will map our data from `correct_list` to the US map.\n",
    "\n",
    "The darkest state represents the most amount of inliners, or least amount of outliers. In contrast, the lightest states represent the least amount of inliners, or most amount of outliers. "
   ]
  },
  {
   "cell_type": "code",
   "execution_count": 359,
   "metadata": {
    "scrolled": true
   },
   "outputs": [
    {
     "name": "stdout",
     "output_type": "stream",
     "text": [
      "\n",
      "1: 1 => 20 \n",
      "2: 21 => 29 \n",
      "3: 30 => 32 \n",
      "4: 33 => 38 \n",
      "5: 39 => 57 \n",
      "6: 58 => 100 \n",
      "\n",
      "   1   2   3   4   5   6\n"
     ]
    },
    {
     "data": {
      "image/png": "[encoded data removed]",
      "text/plain": [
       "<Figure size 259.2x43.2 with 1 Axes>"
      ]
     },
     "metadata": {
      "needs_background": "light"
     },
     "output_type": "display_data"
    },
    {
     "data": {
      "text/plain": [
       "<Figure size 1080x648 with 0 Axes>"
      ]
     },
     "metadata": {},
     "output_type": "display_data"
    },
    {
     "data": {
      "image/png": "[encoded data removed]",
      "text/plain": [
       "<Figure size 1080x648 with 1 Axes>"
      ]
     },
     "metadata": {
      "needs_background": "light"
     },
     "output_type": "display_data"
    }
   ],
   "source": [
    "y_lim = (23, 50) # lat \n",
    "x_lim = (-128, -65) # long\n",
    "my_states = list(set(X_valid['state']))\n",
    "color_pallete = 3\n",
    "plot_comunas_data(sf, \"Inliers per state\", my_states, correct_list, color_pallete, False)"
   ]
  },
  {
   "cell_type": "markdown",
   "metadata": {},
   "source": [
    "However, when trying to map the results for `incorrect_list`, the function experiences some errors that require further analysis and coding to perfect. The code is still viewable through here: \n",
    "\n",
    "`color_pallete = 3\n",
    "plot_comunas_data(sf, \"Outliers per state\", my_states, incorrect_list, color_pallete, False)`"
   ]
  },
  {
   "cell_type": "markdown",
   "metadata": {},
   "source": [
    "# IV. Remarks #\n",
    "\n",
    "Based on the map, the states with the most normal data points are: \n",
    "  * Florida\n",
    "  * Maine\n",
    "  * Michigan\n",
    "  * Nevada\n",
    "  * New Hampshire\n",
    "  * North Carolina\n",
    "  * Ohio\n",
    "  * Pennsylvania\n",
    "  * Virginia\n",
    "  \n",
    "To assess further, the amount of predicted inliners in the validation dataset can be viewed below:"
   ]
  },
  {
   "cell_type": "code",
   "execution_count": 360,
   "metadata": {},
   "outputs": [
    {
     "data": {
      "text/html": [
       "<div>\n",
       "<style scoped>\n",
       "    .dataframe tbody tr th:only-of-type {\n",
       "        vertical-align: middle;\n",
       "    }\n",
       "\n",
       "    .dataframe tbody tr th {\n",
       "        vertical-align: top;\n",
       "    }\n",
       "\n",
       "    .dataframe thead th {\n",
       "        text-align: right;\n",
       "    }\n",
       "</style>\n",
       "<table border=\"1\" class=\"dataframe\">\n",
       "  <thead>\n",
       "    <tr style=\"text-align: right;\">\n",
       "      <th></th>\n",
       "      <th>grade</th>\n",
       "      <th>adjpoll_clinton</th>\n",
       "      <th>adjpoll_trump</th>\n",
       "      <th>anomaly</th>\n",
       "      <th>scores</th>\n",
       "    </tr>\n",
       "    <tr>\n",
       "      <th>state</th>\n",
       "      <th></th>\n",
       "      <th></th>\n",
       "      <th></th>\n",
       "      <th></th>\n",
       "      <th></th>\n",
       "    </tr>\n",
       "  </thead>\n",
       "  <tbody>\n",
       "    <tr>\n",
       "      <td>Florida</td>\n",
       "      <td>440</td>\n",
       "      <td>4604.80256</td>\n",
       "      <td>4560.73961</td>\n",
       "      <td>101</td>\n",
       "      <td>8.447052</td>\n",
       "    </tr>\n",
       "    <tr>\n",
       "      <td>Maine</td>\n",
       "      <td>254</td>\n",
       "      <td>2708.26831</td>\n",
       "      <td>2339.31699</td>\n",
       "      <td>61</td>\n",
       "      <td>5.618447</td>\n",
       "    </tr>\n",
       "    <tr>\n",
       "      <td>Michigan</td>\n",
       "      <td>256</td>\n",
       "      <td>2661.53593</td>\n",
       "      <td>2417.20139</td>\n",
       "      <td>61</td>\n",
       "      <td>6.518783</td>\n",
       "    </tr>\n",
       "    <tr>\n",
       "      <td>Nevada</td>\n",
       "      <td>303</td>\n",
       "      <td>2782.88940</td>\n",
       "      <td>2815.11649</td>\n",
       "      <td>65</td>\n",
       "      <td>7.501152</td>\n",
       "    </tr>\n",
       "    <tr>\n",
       "      <td>New Hampshire</td>\n",
       "      <td>252</td>\n",
       "      <td>2929.18861</td>\n",
       "      <td>2565.07713</td>\n",
       "      <td>65</td>\n",
       "      <td>7.392964</td>\n",
       "    </tr>\n",
       "    <tr>\n",
       "      <td>North Carolina</td>\n",
       "      <td>357</td>\n",
       "      <td>3984.79104</td>\n",
       "      <td>4013.95297</td>\n",
       "      <td>90</td>\n",
       "      <td>9.664626</td>\n",
       "    </tr>\n",
       "    <tr>\n",
       "      <td>Ohio</td>\n",
       "      <td>307</td>\n",
       "      <td>3052.17790</td>\n",
       "      <td>3169.51567</td>\n",
       "      <td>72</td>\n",
       "      <td>7.559769</td>\n",
       "    </tr>\n",
       "    <tr>\n",
       "      <td>Pennsylvania</td>\n",
       "      <td>360</td>\n",
       "      <td>4212.33641</td>\n",
       "      <td>3905.97004</td>\n",
       "      <td>92</td>\n",
       "      <td>8.733580</td>\n",
       "    </tr>\n",
       "    <tr>\n",
       "      <td>Virginia</td>\n",
       "      <td>251</td>\n",
       "      <td>3085.74097</td>\n",
       "      <td>2629.77349</td>\n",
       "      <td>67</td>\n",
       "      <td>4.730624</td>\n",
       "    </tr>\n",
       "  </tbody>\n",
       "</table>\n",
       "</div>"
      ],
      "text/plain": [
       "                grade  adjpoll_clinton  adjpoll_trump  anomaly    scores\n",
       "state                                                                   \n",
       "Florida           440       4604.80256     4560.73961      101  8.447052\n",
       "Maine             254       2708.26831     2339.31699       61  5.618447\n",
       "Michigan          256       2661.53593     2417.20139       61  6.518783\n",
       "Nevada            303       2782.88940     2815.11649       65  7.501152\n",
       "New Hampshire     252       2929.18861     2565.07713       65  7.392964\n",
       "North Carolina    357       3984.79104     4013.95297       90  9.664626\n",
       "Ohio              307       3052.17790     3169.51567       72  7.559769\n",
       "Pennsylvania      360       4212.33641     3905.97004       92  8.733580\n",
       "Virginia          251       3085.74097     2629.77349       67  4.730624"
      ]
     },
     "execution_count": 360,
     "metadata": {},
     "output_type": "execute_result"
    }
   ],
   "source": [
    "sum_correct[sum_correct['anomaly'] >= 56]"
   ]
  },
  {
   "cell_type": "markdown",
   "metadata": {},
   "source": [
    "### Percentage of anomalies in the validation dataset: ###\n",
    "\n",
    "Based on the results below, there are 195 records predicted to be anomalies. That means, `195/2138*100` ~9.12% of anomalies in the validation dataset. "
   ]
  },
  {
   "cell_type": "code",
   "execution_count": 361,
   "metadata": {},
   "outputs": [
    {
     "data": {
      "text/html": [
       "<div>\n",
       "<style scoped>\n",
       "    .dataframe tbody tr th:only-of-type {\n",
       "        vertical-align: middle;\n",
       "    }\n",
       "\n",
       "    .dataframe tbody tr th {\n",
       "        vertical-align: top;\n",
       "    }\n",
       "\n",
       "    .dataframe thead th {\n",
       "        text-align: right;\n",
       "    }\n",
       "</style>\n",
       "<table border=\"1\" class=\"dataframe\">\n",
       "  <thead>\n",
       "    <tr style=\"text-align: right;\">\n",
       "      <th></th>\n",
       "      <th>state</th>\n",
       "      <th>grade</th>\n",
       "      <th>adjpoll_clinton</th>\n",
       "      <th>adjpoll_trump</th>\n",
       "      <th>anomaly</th>\n",
       "      <th>scores</th>\n",
       "    </tr>\n",
       "  </thead>\n",
       "  <tbody>\n",
       "    <tr>\n",
       "      <td>8263</td>\n",
       "      <td>Utah</td>\n",
       "      <td>8</td>\n",
       "      <td>26.32916</td>\n",
       "      <td>33.68345</td>\n",
       "      <td>-1</td>\n",
       "      <td>-0.031888</td>\n",
       "    </tr>\n",
       "    <tr>\n",
       "      <td>1404</td>\n",
       "      <td>Washington</td>\n",
       "      <td>10</td>\n",
       "      <td>47.85883</td>\n",
       "      <td>36.78597</td>\n",
       "      <td>-1</td>\n",
       "      <td>-0.016698</td>\n",
       "    </tr>\n",
       "    <tr>\n",
       "      <td>313</td>\n",
       "      <td>California</td>\n",
       "      <td>2</td>\n",
       "      <td>63.88869</td>\n",
       "      <td>26.51664</td>\n",
       "      <td>-1</td>\n",
       "      <td>-0.048090</td>\n",
       "    </tr>\n",
       "    <tr>\n",
       "      <td>7913</td>\n",
       "      <td>Utah</td>\n",
       "      <td>8</td>\n",
       "      <td>27.33101</td>\n",
       "      <td>32.55604</td>\n",
       "      <td>-1</td>\n",
       "      <td>-0.032707</td>\n",
       "    </tr>\n",
       "    <tr>\n",
       "      <td>708</td>\n",
       "      <td>Massachusetts</td>\n",
       "      <td>8</td>\n",
       "      <td>58.47790</td>\n",
       "      <td>29.41939</td>\n",
       "      <td>-1</td>\n",
       "      <td>-0.014138</td>\n",
       "    </tr>\n",
       "    <tr>\n",
       "      <td>...</td>\n",
       "      <td>...</td>\n",
       "      <td>...</td>\n",
       "      <td>...</td>\n",
       "      <td>...</td>\n",
       "      <td>...</td>\n",
       "      <td>...</td>\n",
       "    </tr>\n",
       "    <tr>\n",
       "      <td>8478</td>\n",
       "      <td>California</td>\n",
       "      <td>8</td>\n",
       "      <td>52.40491</td>\n",
       "      <td>31.85376</td>\n",
       "      <td>-1</td>\n",
       "      <td>-0.023673</td>\n",
       "    </tr>\n",
       "    <tr>\n",
       "      <td>4133</td>\n",
       "      <td>Maryland</td>\n",
       "      <td>5</td>\n",
       "      <td>56.52341</td>\n",
       "      <td>28.76217</td>\n",
       "      <td>-1</td>\n",
       "      <td>-0.007992</td>\n",
       "    </tr>\n",
       "    <tr>\n",
       "      <td>2018</td>\n",
       "      <td>Delaware</td>\n",
       "      <td>2</td>\n",
       "      <td>43.29377</td>\n",
       "      <td>23.70239</td>\n",
       "      <td>-1</td>\n",
       "      <td>-0.000999</td>\n",
       "    </tr>\n",
       "    <tr>\n",
       "      <td>7789</td>\n",
       "      <td>Kentucky</td>\n",
       "      <td>8</td>\n",
       "      <td>27.40880</td>\n",
       "      <td>60.63406</td>\n",
       "      <td>-1</td>\n",
       "      <td>-0.023143</td>\n",
       "    </tr>\n",
       "    <tr>\n",
       "      <td>7488</td>\n",
       "      <td>Oklahoma</td>\n",
       "      <td>8</td>\n",
       "      <td>28.42314</td>\n",
       "      <td>57.24835</td>\n",
       "      <td>-1</td>\n",
       "      <td>-0.007590</td>\n",
       "    </tr>\n",
       "  </tbody>\n",
       "</table>\n",
       "<p>195 rows × 6 columns</p>\n",
       "</div>"
      ],
      "text/plain": [
       "              state  grade  adjpoll_clinton  adjpoll_trump  anomaly    scores\n",
       "8263           Utah      8         26.32916       33.68345       -1 -0.031888\n",
       "1404     Washington     10         47.85883       36.78597       -1 -0.016698\n",
       "313      California      2         63.88869       26.51664       -1 -0.048090\n",
       "7913           Utah      8         27.33101       32.55604       -1 -0.032707\n",
       "708   Massachusetts      8         58.47790       29.41939       -1 -0.014138\n",
       "...             ...    ...              ...            ...      ...       ...\n",
       "8478     California      8         52.40491       31.85376       -1 -0.023673\n",
       "4133       Maryland      5         56.52341       28.76217       -1 -0.007992\n",
       "2018       Delaware      2         43.29377       23.70239       -1 -0.000999\n",
       "7789       Kentucky      8         27.40880       60.63406       -1 -0.023143\n",
       "7488       Oklahoma      8         28.42314       57.24835       -1 -0.007590\n",
       "\n",
       "[195 rows x 6 columns]"
      ]
     },
     "execution_count": 361,
     "metadata": {},
     "output_type": "execute_result"
    }
   ],
   "source": [
    "X_valid[X_valid['anomaly']==-1]"
   ]
  },
  {
   "cell_type": "code",
   "execution_count": 362,
   "metadata": {},
   "outputs": [
    {
     "data": {
      "text/plain": [
       "(2138, 6)"
      ]
     },
     "execution_count": 362,
     "metadata": {},
     "output_type": "execute_result"
    }
   ],
   "source": [
    "X_valid.shape"
   ]
  },
  {
   "cell_type": "markdown",
   "metadata": {},
   "source": [
    "### Percentage of anomalies in the training dataset: ###\n",
    "\n",
    "Based on the results below, there are 500 records predicted to be anomalies. That means, `500 / 4992 * 100` ~ 10% of anomalies in the training dataset. "
   ]
  },
  {
   "cell_type": "code",
   "execution_count": 363,
   "metadata": {},
   "outputs": [
    {
     "data": {
      "text/html": [
       "<div>\n",
       "<style scoped>\n",
       "    .dataframe tbody tr th:only-of-type {\n",
       "        vertical-align: middle;\n",
       "    }\n",
       "\n",
       "    .dataframe tbody tr th {\n",
       "        vertical-align: top;\n",
       "    }\n",
       "\n",
       "    .dataframe thead th {\n",
       "        text-align: right;\n",
       "    }\n",
       "</style>\n",
       "<table border=\"1\" class=\"dataframe\">\n",
       "  <thead>\n",
       "    <tr style=\"text-align: right;\">\n",
       "      <th></th>\n",
       "      <th>state</th>\n",
       "      <th>grade</th>\n",
       "      <th>adjpoll_clinton</th>\n",
       "      <th>adjpoll_trump</th>\n",
       "      <th>anomaly</th>\n",
       "      <th>scores</th>\n",
       "    </tr>\n",
       "  </thead>\n",
       "  <tbody>\n",
       "    <tr>\n",
       "      <td>265</td>\n",
       "      <td>45</td>\n",
       "      <td>4</td>\n",
       "      <td>47.17089</td>\n",
       "      <td>21.701910</td>\n",
       "      <td>-1</td>\n",
       "      <td>-0.041541</td>\n",
       "    </tr>\n",
       "    <tr>\n",
       "      <td>1395</td>\n",
       "      <td>45</td>\n",
       "      <td>5</td>\n",
       "      <td>44.53185</td>\n",
       "      <td>29.110070</td>\n",
       "      <td>-1</td>\n",
       "      <td>-0.014168</td>\n",
       "    </tr>\n",
       "    <tr>\n",
       "      <td>7469</td>\n",
       "      <td>37</td>\n",
       "      <td>10</td>\n",
       "      <td>46.90264</td>\n",
       "      <td>33.676560</td>\n",
       "      <td>-1</td>\n",
       "      <td>-0.008191</td>\n",
       "    </tr>\n",
       "    <tr>\n",
       "      <td>606</td>\n",
       "      <td>4</td>\n",
       "      <td>0</td>\n",
       "      <td>51.10452</td>\n",
       "      <td>32.959240</td>\n",
       "      <td>-1</td>\n",
       "      <td>-0.012052</td>\n",
       "    </tr>\n",
       "    <tr>\n",
       "      <td>7190</td>\n",
       "      <td>0</td>\n",
       "      <td>3</td>\n",
       "      <td>25.37986</td>\n",
       "      <td>61.828900</td>\n",
       "      <td>-1</td>\n",
       "      <td>-0.064817</td>\n",
       "    </tr>\n",
       "    <tr>\n",
       "      <td>...</td>\n",
       "      <td>...</td>\n",
       "      <td>...</td>\n",
       "      <td>...</td>\n",
       "      <td>...</td>\n",
       "      <td>...</td>\n",
       "      <td>...</td>\n",
       "    </tr>\n",
       "    <tr>\n",
       "      <td>6266</td>\n",
       "      <td>48</td>\n",
       "      <td>5</td>\n",
       "      <td>23.69489</td>\n",
       "      <td>61.277220</td>\n",
       "      <td>-1</td>\n",
       "      <td>-0.074758</td>\n",
       "    </tr>\n",
       "    <tr>\n",
       "      <td>4338</td>\n",
       "      <td>45</td>\n",
       "      <td>8</td>\n",
       "      <td>51.22993</td>\n",
       "      <td>25.220440</td>\n",
       "      <td>-1</td>\n",
       "      <td>-0.050916</td>\n",
       "    </tr>\n",
       "    <tr>\n",
       "      <td>4401</td>\n",
       "      <td>17</td>\n",
       "      <td>8</td>\n",
       "      <td>29.51526</td>\n",
       "      <td>58.667880</td>\n",
       "      <td>-1</td>\n",
       "      <td>-0.000228</td>\n",
       "    </tr>\n",
       "    <tr>\n",
       "      <td>7675</td>\n",
       "      <td>8</td>\n",
       "      <td>8</td>\n",
       "      <td>85.33506</td>\n",
       "      <td>6.047079</td>\n",
       "      <td>-1</td>\n",
       "      <td>-0.174460</td>\n",
       "    </tr>\n",
       "    <tr>\n",
       "      <td>3534</td>\n",
       "      <td>4</td>\n",
       "      <td>0</td>\n",
       "      <td>54.45079</td>\n",
       "      <td>31.472490</td>\n",
       "      <td>-1</td>\n",
       "      <td>-0.037554</td>\n",
       "    </tr>\n",
       "  </tbody>\n",
       "</table>\n",
       "<p>500 rows × 6 columns</p>\n",
       "</div>"
      ],
      "text/plain": [
       "      state  grade  adjpoll_clinton  adjpoll_trump  anomaly    scores\n",
       "265      45      4         47.17089      21.701910       -1 -0.041541\n",
       "1395     45      5         44.53185      29.110070       -1 -0.014168\n",
       "7469     37     10         46.90264      33.676560       -1 -0.008191\n",
       "606       4      0         51.10452      32.959240       -1 -0.012052\n",
       "7190      0      3         25.37986      61.828900       -1 -0.064817\n",
       "...     ...    ...              ...            ...      ...       ...\n",
       "6266     48      5         23.69489      61.277220       -1 -0.074758\n",
       "4338     45      8         51.22993      25.220440       -1 -0.050916\n",
       "4401     17      8         29.51526      58.667880       -1 -0.000228\n",
       "7675      8      8         85.33506       6.047079       -1 -0.174460\n",
       "3534      4      0         54.45079      31.472490       -1 -0.037554\n",
       "\n",
       "[500 rows x 6 columns]"
      ]
     },
     "execution_count": 363,
     "metadata": {},
     "output_type": "execute_result"
    }
   ],
   "source": [
    "X_train[X_train['anomaly']==-1]"
   ]
  },
  {
   "cell_type": "code",
   "execution_count": 364,
   "metadata": {},
   "outputs": [
    {
     "data": {
      "text/html": [
       "<div>\n",
       "<style scoped>\n",
       "    .dataframe tbody tr th:only-of-type {\n",
       "        vertical-align: middle;\n",
       "    }\n",
       "\n",
       "    .dataframe tbody tr th {\n",
       "        vertical-align: top;\n",
       "    }\n",
       "\n",
       "    .dataframe thead th {\n",
       "        text-align: right;\n",
       "    }\n",
       "</style>\n",
       "<table border=\"1\" class=\"dataframe\">\n",
       "  <thead>\n",
       "    <tr style=\"text-align: right;\">\n",
       "      <th></th>\n",
       "      <th>state</th>\n",
       "      <th>grade</th>\n",
       "      <th>adjpoll_clinton</th>\n",
       "      <th>adjpoll_trump</th>\n",
       "      <th>anomaly</th>\n",
       "      <th>scores</th>\n",
       "    </tr>\n",
       "  </thead>\n",
       "  <tbody>\n",
       "    <tr>\n",
       "      <td>265</td>\n",
       "      <td>45</td>\n",
       "      <td>4</td>\n",
       "      <td>47.17089</td>\n",
       "      <td>21.70191</td>\n",
       "      <td>-1</td>\n",
       "      <td>-0.041541</td>\n",
       "    </tr>\n",
       "    <tr>\n",
       "      <td>1774</td>\n",
       "      <td>37</td>\n",
       "      <td>3</td>\n",
       "      <td>54.30991</td>\n",
       "      <td>34.55259</td>\n",
       "      <td>1</td>\n",
       "      <td>0.075089</td>\n",
       "    </tr>\n",
       "    <tr>\n",
       "      <td>2614</td>\n",
       "      <td>49</td>\n",
       "      <td>2</td>\n",
       "      <td>36.95758</td>\n",
       "      <td>38.10036</td>\n",
       "      <td>1</td>\n",
       "      <td>0.034064</td>\n",
       "    </tr>\n",
       "    <tr>\n",
       "      <td>9603</td>\n",
       "      <td>9</td>\n",
       "      <td>3</td>\n",
       "      <td>39.78279</td>\n",
       "      <td>49.43355</td>\n",
       "      <td>1</td>\n",
       "      <td>0.117955</td>\n",
       "    </tr>\n",
       "    <tr>\n",
       "      <td>1395</td>\n",
       "      <td>45</td>\n",
       "      <td>5</td>\n",
       "      <td>44.53185</td>\n",
       "      <td>29.11007</td>\n",
       "      <td>-1</td>\n",
       "      <td>-0.014168</td>\n",
       "    </tr>\n",
       "    <tr>\n",
       "      <td>...</td>\n",
       "      <td>...</td>\n",
       "      <td>...</td>\n",
       "      <td>...</td>\n",
       "      <td>...</td>\n",
       "      <td>...</td>\n",
       "      <td>...</td>\n",
       "    </tr>\n",
       "    <tr>\n",
       "      <td>2171</td>\n",
       "      <td>29</td>\n",
       "      <td>2</td>\n",
       "      <td>42.57039</td>\n",
       "      <td>45.07587</td>\n",
       "      <td>1</td>\n",
       "      <td>0.142061</td>\n",
       "    </tr>\n",
       "    <tr>\n",
       "      <td>1175</td>\n",
       "      <td>20</td>\n",
       "      <td>3</td>\n",
       "      <td>54.02086</td>\n",
       "      <td>33.10349</td>\n",
       "      <td>1</td>\n",
       "      <td>0.093096</td>\n",
       "    </tr>\n",
       "    <tr>\n",
       "      <td>157</td>\n",
       "      <td>9</td>\n",
       "      <td>7</td>\n",
       "      <td>43.43343</td>\n",
       "      <td>48.44582</td>\n",
       "      <td>1</td>\n",
       "      <td>0.062204</td>\n",
       "    </tr>\n",
       "    <tr>\n",
       "      <td>1597</td>\n",
       "      <td>22</td>\n",
       "      <td>3</td>\n",
       "      <td>43.90165</td>\n",
       "      <td>36.86431</td>\n",
       "      <td>1</td>\n",
       "      <td>0.140302</td>\n",
       "    </tr>\n",
       "    <tr>\n",
       "      <td>8854</td>\n",
       "      <td>27</td>\n",
       "      <td>2</td>\n",
       "      <td>26.76827</td>\n",
       "      <td>55.80007</td>\n",
       "      <td>1</td>\n",
       "      <td>0.023577</td>\n",
       "    </tr>\n",
       "  </tbody>\n",
       "</table>\n",
       "<p>4992 rows × 6 columns</p>\n",
       "</div>"
      ],
      "text/plain": [
       "      state  grade  adjpoll_clinton  adjpoll_trump  anomaly    scores\n",
       "265      45      4         47.17089       21.70191       -1 -0.041541\n",
       "1774     37      3         54.30991       34.55259        1  0.075089\n",
       "2614     49      2         36.95758       38.10036        1  0.034064\n",
       "9603      9      3         39.78279       49.43355        1  0.117955\n",
       "1395     45      5         44.53185       29.11007       -1 -0.014168\n",
       "...     ...    ...              ...            ...      ...       ...\n",
       "2171     29      2         42.57039       45.07587        1  0.142061\n",
       "1175     20      3         54.02086       33.10349        1  0.093096\n",
       "157       9      7         43.43343       48.44582        1  0.062204\n",
       "1597     22      3         43.90165       36.86431        1  0.140302\n",
       "8854     27      2         26.76827       55.80007        1  0.023577\n",
       "\n",
       "[4992 rows x 6 columns]"
      ]
     },
     "execution_count": 364,
     "metadata": {},
     "output_type": "execute_result"
    }
   ],
   "source": [
    "X_train"
   ]
  },
  {
   "cell_type": "markdown",
   "metadata": {},
   "source": [
    "### Evaluating Anomalies by Grade ###\n",
    "\n",
    "Given 8 grades from mulitple pollsters in this dataset, it is necessary to see the anomalies in each based on the validation dataset"
   ]
  },
  {
   "cell_type": "code",
   "execution_count": 365,
   "metadata": {},
   "outputs": [
    {
     "data": {
      "text/plain": [
       "grade\n",
       "A     -19\n",
       "A+     -2\n",
       "A-    -20\n",
       "B     -40\n",
       "B+     -4\n",
       "B-     -3\n",
       "C      -1\n",
       "C+    -13\n",
       "C-    -64\n",
       "nan   -29\n",
       "Name: anomaly, dtype: int64"
      ]
     },
     "execution_count": 365,
     "metadata": {},
     "output_type": "execute_result"
    }
   ],
   "source": [
    "#Retrieving the grades \n",
    "X_valid['grade'] = list(le1.inverse_transform(X_valid['grade']))\n",
    "grade_result = X_valid[X_valid['anomaly'] == -1].groupby('grade').sum()\n",
    "grade_result['anomaly']"
   ]
  },
  {
   "cell_type": "markdown",
   "metadata": {},
   "source": [
    "We see that for grade `C-` pollsters has the most outliers, followed by grade `B`, then nan. Out of all the grades, grade `A+`, `B+`, `B-`, `C` have the least amount of anomalies, which could mean that these pollsters are more accurate and trustworthy \n"
   ]
  },
  {
   "cell_type": "code",
   "execution_count": null,
   "metadata": {},
   "outputs": [],
   "source": []
  }
 ],
 "metadata": {
  "kernelspec": {
   "display_name": "Python 3",
   "language": "python",
   "name": "python3"
  },
  "language_info": {
   "codemirror_mode": {
    "name": "ipython",
    "version": 3
   },
   "file_extension": ".py",
   "mimetype": "text/x-python",
   "name": "python",
   "nbconvert_exporter": "python",
   "pygments_lexer": "ipython3",
   "version": "3.7.4"
  }
 },
 "nbformat": 4,
 "nbformat_minor": 2
}
